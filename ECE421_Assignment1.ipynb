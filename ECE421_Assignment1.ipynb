{
  "nbformat": 4,
  "nbformat_minor": 0,
  "metadata": {
    "colab": {
      "provenance": []
    },
    "kernelspec": {
      "name": "python3",
      "display_name": "Python 3"
    },
    "language_info": {
      "name": "python"
    }
  },
  "cells": [
    {
      "cell_type": "code",
      "source": [
        "!pip install scikit-learn"
      ],
      "metadata": {
        "colab": {
          "base_uri": "https://localhost:8080/"
        },
        "id": "nW7Di3zebrgN",
        "outputId": "a35b4e85-cfdc-449e-8d11-2e45153d7c0f"
      },
      "execution_count": null,
      "outputs": [
        {
          "output_type": "stream",
          "name": "stdout",
          "text": [
            "Requirement already satisfied: scikit-learn in /usr/local/lib/python3.10/dist-packages (1.2.2)\n",
            "Requirement already satisfied: numpy>=1.17.3 in /usr/local/lib/python3.10/dist-packages (from scikit-learn) (1.23.5)\n",
            "Requirement already satisfied: scipy>=1.3.2 in /usr/local/lib/python3.10/dist-packages (from scikit-learn) (1.11.2)\n",
            "Requirement already satisfied: joblib>=1.1.1 in /usr/local/lib/python3.10/dist-packages (from scikit-learn) (1.3.2)\n",
            "Requirement already satisfied: threadpoolctl>=2.0.0 in /usr/local/lib/python3.10/dist-packages (from scikit-learn) (3.2.0)\n"
          ]
        }
      ]
    },
    {
      "cell_type": "code",
      "source": [
        "# Import necessary libraries\n",
        "from sklearn.datasets import load_breast_cancer\n",
        "import numpy as np\n",
        "\n",
        "# Access the useful data from the loaded dataset\n",
        "bc = load_breast_cancer()\n",
        "ds = bc['data']\n",
        "real_ds = ds[:,0:10]\n",
        "\n",
        "# Considering the second heuristic mentioned in class, initialize k-means algorithm using random points from training dataset\n",
        "# Define a function to get random indices of points in training dataset for accessing random datapoints for initialization\n",
        "def get_index_random_centroids(dataset,k):\n",
        "  rng = np.random.default_rng()\n",
        "  return(rng.integers(low=0, high=len(dataset)-1, size=k)) # get a list of random number within the total number of data points\n",
        "\n",
        "# Define a function to calculate the distortion given the training dataset, centroids set, and the list of centroids assignments,\n",
        "# return an one-element list containing the value of distortion\n",
        "def get_distortion(dataset,centroids,c_assignment):\n",
        "  distortion = 0\n",
        "  for i in range(len(c_assignment[0])):\n",
        "    distortion += np.square(np.linalg.norm(dataset[i]-centroids[int(c_assignment[0][i])])) # Add up the squares of distances between datapoints and final centroids\n",
        "  distortion /= len(c_assignment[0]) # Average them by dividing the number of datapoints\n",
        "  res = []\n",
        "  res.append(distortion)\n",
        "  return res\n",
        "\n",
        "# Define a function for running k-means algorithm sufficient times to get results with low distortion\n",
        "def k_means(dataset,k):\n",
        "\n",
        "# Get indices of random centroids\n",
        "  ind_c = get_index_random_centroids(dataset,k)\n",
        "\n",
        "# Initialize an NumPy array for intial centroids\n",
        "  centroids = np.full((k,len(dataset[0])), np.nan)\n",
        "\n",
        "# Using the random indices acquired above to fill the centroids NumPy array with intial random centroids\n",
        "  for ind in range(k):\n",
        "    centroids[ind] = dataset[int(ind_c[ind])]\n",
        "\n",
        "# Intialize an NumPy array for centroid assignment\n",
        "  c_assignment = np.full((1,len(dataset)), np.nan)\n",
        "\n",
        "# Loop through the dataset and compute distances between datapoints and centroids and assign centroids for sufficient times to get results with low distortion\n",
        "  for l_times in range(500): # Run the algorithm for sufficient times\n",
        "    for data_ind_a in range(len(dataset)): # For each datapoint in the training set, do the following\n",
        "      distance = np.full((1,k),np.nan)     # Initialize a NumPy array for storing the distances between the datapoint and all centroids\n",
        "      for l_of_clist in range(k):         # For each centroid\n",
        "        distance[0][l_of_clist] = np.linalg.norm(dataset[data_ind_a] - centroids[l_of_clist]) # Store their distances between the datapoint to the distance NumPy array\n",
        "      c_assignment[0][data_ind_a] = np.argmin(distance) # Assign the datapoint to the centroid with the shortest distance between them\n",
        "\n",
        "# After assign centroids, move centroids\n",
        "    centroids = np.zeros((k,len(dataset[0]))) # Intialize an NumPy array for storing new centroids\n",
        "    centroids_nb = np.zeros((1,k))            # Initialize an NumPy array to record how many datapoints are assigned to each centroid\n",
        "    for data_ind_m in range(len(dataset)):\n",
        "      for dimension in range(len(dataset[0])):\n",
        "        centroids[int(c_assignment[0][data_ind_m])][dimension] += dataset[data_ind_m][dimension] # Calculate the sum of all datapoints assigned to a certain centroid\n",
        "      centroids_nb[0][int(c_assignment[0][data_ind_m])] += 1 # Record how many datapoints are assigned to certain centroids\n",
        "\n",
        " # For each sum of datapoints assigned, divide by the total number of datapoints assinged specific centroid to get the mean, which are new centroids\n",
        "    for index_c in range(k):\n",
        "      for dimension_c in range(len(dataset[0])):\n",
        "        centroids[index_c][dimension_c]  /= centroids_nb[0][index_c]\n",
        "\n",
        "# After run the k-means algorithm enough times, calculate the distortion\n",
        "  distortion = get_distortion(dataset,centroids,c_assignment)\n",
        "  return centroids,c_assignment,distortion\n",
        "\n"
      ],
      "metadata": {
        "id": "0clOhw4gb1gL"
      },
      "execution_count": null,
      "outputs": []
    },
    {
      "cell_type": "code",
      "source": [
        "def get_index_random_centroids(dataset,k):\n",
        "  rng = np.random.default_rng()\n",
        "  return(rng.integers(low=0, high=len(dataset)-1, size=k))\n",
        "\n",
        "def get_distortion(dataset,centroids,c_assignment):\n",
        "  distortion = 0\n",
        "  for i in range(len(c_assignment[0])):\n",
        "    distortion += np.square(np.linalg.norm(dataset[i]-centroids[int(c_assignment[0][i])]))\n",
        "  distortion /= len(c_assignment[0])\n",
        "  res = []\n",
        "  res.append(distortion)\n",
        "  return res\n",
        "\n",
        "def k_means(dataset,k):\n",
        "# get index of random centroids\n",
        "  ind_c = get_index_random_centroids(k)\n",
        "\n",
        "# get np array of intial centroids given that effective dataponints are 10 dimension\n",
        "  centroids = np.full((k,len(dataset[0])), np.nan)\n",
        "\n",
        "  for ind in range(k):\n",
        "    centroids[ind] = dataset[int(ind_c[ind])]\n",
        "\n",
        "\n",
        "# intialize a numpy array for centroid assignment\n",
        "  c_assignment = np.full((1,len(dataset)), np.nan)\n",
        "\n",
        "# loop through the dataset (compute distance between datapoints and centroids (numpy norm), assign centroids (numpy argmin))\n",
        "  for l_times in range(500):\n",
        "    for data_ind_a in range(len(dataset)):\n",
        "      distance = np.full((1,k),np.nan)\n",
        "      for l_of_clist in range(k):\n",
        "        distance[0][l_of_clist] = np.linalg.norm(dataset[data_ind_a] - centroids[l_of_clist])\n",
        "      c_assignment[0][data_ind_a] = np.argmin(distance) #1*len(dataset)\n",
        "\n",
        "# move centroids\n",
        "    # old_centroids = np.copy(centroids) #k*len(dataset[0])\n",
        "    centroids = np.zeros((k,len(dataset[0])))\n",
        "    centroids_nb = np.zeros((1,k))\n",
        "    for data_ind_m in range(len(dataset)):\n",
        "      for dimension in range(len(dataset[0])):\n",
        "        centroids[int(c_assignment[0][data_ind_m])][dimension] += dataset[data_ind_m][dimension]\n",
        "      centroids_nb[0][int(c_assignment[0][data_ind_m])] += 1\n",
        "\n",
        "    for index_c in range(k):\n",
        "      for dimension_c in range(len(dataset[0])):\n",
        "        centroids[index_c][dimension_c]  /= centroids_nb[0][index_c]\n",
        "  distortion = get_distortion(dataset,centroids,c_assignment)\n",
        "  return centroids,c_assignment,distortion\n"
      ],
      "metadata": {
        "id": "IVYLa4Svi3z2"
      },
      "execution_count": null,
      "outputs": []
    },
    {
      "cell_type": "code",
      "source": [
        "import matplotlib.pyplot as plt\n",
        "distortion = []\n",
        "k_value = []\n",
        "for i in range(2,8):\n",
        "   distortion += k_means(real_ds,i)[2]\n",
        "   k_value += [i]\n",
        "\n",
        "fig,ax = plt.subplots()\n",
        "ax.plot(k_value, distortion,marker='o')\n",
        "\n",
        "ax.set(xlabel='values of k', ylabel='distortion',\n",
        "       title='Distortion v.s. k')\n",
        "ax.grid()\n",
        "\n",
        "\n",
        "plt.show()\n",
        "\n"
      ],
      "metadata": {
        "colab": {
          "base_uri": "https://localhost:8080/",
          "height": 472
        },
        "id": "TLAmDUdjuVR6",
        "outputId": "bafbbd67-0f83-4a53-f6cb-add2032043bd"
      },
      "execution_count": null,
      "outputs": [
        {
          "output_type": "display_data",
          "data": {
            "text/plain": [
              "<Figure size 640x480 with 1 Axes>"
            ],
            "image/png": "[encoded data removed]"
          },
          "metadata": {}
        }
      ]
    },
    {
      "cell_type": "code",
      "source": [
        "bc.keys()"
      ],
      "metadata": {
        "colab": {
          "base_uri": "https://localhost:8080/"
        },
        "id": "efNhXVd6dPiR",
        "outputId": "6c60bf5a-1043-466a-b16f-8a353e7e42eb"
      },
      "execution_count": null,
      "outputs": [
        {
          "output_type": "execute_result",
          "data": {
            "text/plain": [
              "dict_keys(['data', 'target', 'frame', 'target_names', 'DESCR', 'feature_names', 'filename', 'data_module'])"
            ]
          },
          "metadata": {},
          "execution_count": 27
        }
      ]
    },
    {
      "cell_type": "code",
      "source": [
        "ds = bc['data']\n",
        "print(ds)\n",
        "print(len(ds))\n",
        "real_ds = ds[:,0:10]\n",
        "print(real_ds)\n",
        "print(len(real_ds))"
      ],
      "metadata": {
        "colab": {
          "base_uri": "https://localhost:8080/"
        },
        "id": "52ieu4FyirOr",
        "outputId": "135db803-18d8-4697-f4a4-887b172176ae"
      },
      "execution_count": null,
      "outputs": [
        {
          "output_type": "stream",
          "name": "stdout",
          "text": [
            "[[1.799e+01 1.038e+01 1.228e+02 ... 2.654e-01 4.601e-01 1.189e-01]\n",
            " [2.057e+01 1.777e+01 1.329e+02 ... 1.860e-01 2.750e-01 8.902e-02]\n",
            " [1.969e+01 2.125e+01 1.300e+02 ... 2.430e-01 3.613e-01 8.758e-02]\n",
            " ...\n",
            " [1.660e+01 2.808e+01 1.083e+02 ... 1.418e-01 2.218e-01 7.820e-02]\n",
            " [2.060e+01 2.933e+01 1.401e+02 ... 2.650e-01 4.087e-01 1.240e-01]\n",
            " [7.760e+00 2.454e+01 4.792e+01 ... 0.000e+00 2.871e-01 7.039e-02]]\n",
            "569\n",
            "[[1.799e+01 1.038e+01 1.228e+02 ... 1.471e-01 2.419e-01 7.871e-02]\n",
            " [2.057e+01 1.777e+01 1.329e+02 ... 7.017e-02 1.812e-01 5.667e-02]\n",
            " [1.969e+01 2.125e+01 1.300e+02 ... 1.279e-01 2.069e-01 5.999e-02]\n",
            " ...\n",
            " [1.660e+01 2.808e+01 1.083e+02 ... 5.302e-02 1.590e-01 5.648e-02]\n",
            " [2.060e+01 2.933e+01 1.401e+02 ... 1.520e-01 2.397e-01 7.016e-02]\n",
            " [7.760e+00 2.454e+01 4.792e+01 ... 0.000e+00 1.587e-01 5.884e-02]]\n",
            "10\n"
          ]
        }
      ]
    },
    {
      "cell_type": "code",
      "source": [
        "print(distortion)"
      ],
      "metadata": {
        "colab": {
          "base_uri": "https://localhost:8080/"
        },
        "id": "iu6jbA-CRtn3",
        "outputId": "da046c9e-6cab-40a9-cc34-9162a1452200"
      },
      "execution_count": null,
      "outputs": [
        {
          "output_type": "stream",
          "name": "stdout",
          "text": [
            "[37373.023518698436, 23181.340264508228, 13131.399447493573, 9219.656355864745, 6587.832981248248, 5110.795782921209]\n"
          ]
        }
      ]
    },
    {
      "cell_type": "code",
      "source": [
        "k = 5\n",
        "cetroids = np.full((1,2), np.nan)\n",
        "cetroids[0][0] = 9\n",
        "print(cetroids)\n",
        "a = np.array([300,40,50,60])\n",
        "print(a)\n",
        "print(a[2])\n",
        "b = np.argmin(a)\n",
        "print(b)\n",
        "\n",
        "centroids_nb = np.zeros((1,k))\n",
        "centroids_nb[0][1] = 222\n",
        "print(centroids_nb)\n",
        "print(len(centroids_nb))\n",
        "\n",
        "d = np.square(2)\n",
        "print(d)\n"
      ],
      "metadata": {
        "colab": {
          "base_uri": "https://localhost:8080/"
        },
        "id": "aodEUJ_phxPw",
        "outputId": "4077f0e3-5760-418a-b89e-4db3dcbed927"
      },
      "execution_count": null,
      "outputs": [
        {
          "output_type": "stream",
          "name": "stdout",
          "text": [
            "[[ 9. nan]]\n",
            "[300  40  50  60]\n",
            "50\n",
            "1\n",
            "[[  0. 222.   0.   0.   0.]]\n",
            "1\n",
            "4\n"
          ]
        }
      ]
    },
    {
      "cell_type": "code",
      "source": [],
      "metadata": {
        "id": "4c0-HojW6guW"
      },
      "execution_count": null,
      "outputs": []
    },
    {
      "cell_type": "code",
      "source": [
        "def k_means(datasets,k):\n",
        "  centroids = np.zeros((k,1))\n",
        "  c_assignment = np.full_like(ds,np.nan)\n",
        "  for i in range(k):\n",
        "    centroids[i,0] = ds[i,0]\n",
        "  distance = np.full_like(centroids,np.nan)\n",
        "  for j in range(len(ds)):\n",
        "    for k2 in range (len(ds[j])):\n",
        "      c_assignment[j][k2]=0\n",
        "      for h in range(len(centroids)):\n",
        "        distance[h,0]= abs(centroids[h,0]-ds[j][k2])\n",
        "      c_assignment[j][k2] = np.argmin(distance)\n",
        "  centroids = np.zeros((k,1))\n",
        "  centroids_nb = np.zeros((k,1))\n",
        "  print(j)\n",
        "  for l in range(len(ds)):\n",
        "    for m in range (len(ds[l])):\n",
        "      centroids[int(c_assignment[l][m]),0] += ds[l][m]\n",
        "      centroids_nb[int(c_assignment[l][m]),0] +=1\n",
        "\n",
        "  for n in range (len(centroids)):\n",
        "    centroids[n,0] = centroids[n,0]/centroids_nb[n,0]\n",
        "  distortino = 0\n",
        "  nb = 0\n",
        "  for a in range(len(ds)):\n",
        "    for b in range (len(ds[a])):\n",
        "      distortion= abs(ds[a][b]- centroids[int(c_assignment[a][b]),0])\n",
        "      nb += 1\n",
        "  distortion = distortion/nb\n",
        "  return(centroids,centroids_nb,c_assignment,distortion)"
      ],
      "metadata": {
        "id": "L3lkdiwma338"
      },
      "execution_count": null,
      "outputs": []
    }
  ]
}